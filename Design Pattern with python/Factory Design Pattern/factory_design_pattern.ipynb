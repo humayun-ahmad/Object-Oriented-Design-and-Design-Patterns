{
 "cells": [
  {
   "cell_type": "markdown",
   "metadata": {},
   "source": [
    "Pizza Factory (Real-World Scenario)\n",
    "\n",
    "Real-World Analogy\n",
    "Imagine you go to a pizza restaurant. You don't directly make the pizza yourself. Instead, you place an order, and the restaurant (acting as a \"factory\") makes the pizza for you. Depending on what you order (e.g., \"Margherita\" or \"Pepperoni\"), the restaurant will create the right kind of pizza and give it to you.\n",
    "\n",
    "Here, the factory (restaurant) decides which specific object (pizza) to create based on your request."
   ]
  },
  {
   "cell_type": "code",
   "execution_count": null,
   "metadata": {
    "vscode": {
     "languageId": "plaintext"
    }
   },
   "outputs": [],
   "source": []
  }
 ],
 "metadata": {
  "language_info": {
   "name": "python"
  }
 },
 "nbformat": 4,
 "nbformat_minor": 2
}
