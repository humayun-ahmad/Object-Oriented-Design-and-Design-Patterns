{
 "cells": [
  {
   "cell_type": "markdown",
   "metadata": {},
   "source": [
    "Example 1"
   ]
  },
  {
   "cell_type": "code",
   "execution_count": 1,
   "metadata": {},
   "outputs": [
    {
     "name": "stdout",
     "output_type": "stream",
     "text": [
      "Using PayPal API to pay $100.\n",
      "Processing PayPal payment of $100.\n",
      "Using Stripe API to pay $200.\n",
      "Making Stripe payment of $200.\n"
     ]
    }
   ],
   "source": [
    "class PaymentProcessor:\n",
    "  def pay(self, amount):\n",
    "    pass\n",
    "  \n",
    "\n",
    "class PayPalAdapter(PaymentProcessor):\n",
    "  def __init__(self, paypal_api):\n",
    "    self.paypal_api = paypal_api\n",
    "\n",
    "  def pay(self, amount):\n",
    "    print(f\"Using PayPal API to pay ${amount}.\")\n",
    "    self.paypal_api.process_payment(amount)\n",
    "\n",
    "class StripeAdapter(PaymentProcessor):\n",
    "  def __init__(self, stripe_api):\n",
    "    self.stripe_api = stripe_api\n",
    "\n",
    "  def pay(self, amount):\n",
    "    print(f\"Using Stripe API to pay ${amount}.\")\n",
    "    self.stripe_api.make_payment(amount)\n",
    "\n",
    "\n",
    "class PayPalAPI:\n",
    "  def process_payment(self, amount):\n",
    "    print(f\"Processing PayPal payment of ${amount}.\")\n",
    "\n",
    "class StripeAPI:\n",
    "  def make_payment(self, amount):\n",
    "    print(f\"Making Stripe payment of ${amount}.\")\n",
    "\n",
    "def process_order(payment_processor, order_amount):\n",
    "  payment_processor.pay(order_amount)\n",
    "\n",
    "paypal_api = PayPalAPI()\n",
    "paypal_adapter = PayPalAdapter(paypal_api)\n",
    "\n",
    "stripe_api = StripeAPI()\n",
    "stripe_adapter = StripeAdapter(stripe_api)\n",
    "\n",
    "# Process payments\n",
    "process_order(paypal_adapter, 100)\n",
    "process_order(stripe_adapter, 200)\n",
    "\n"
   ]
  }
 ],
 "metadata": {
  "kernelspec": {
   "display_name": "base",
   "language": "python",
   "name": "python3"
  },
  "language_info": {
   "codemirror_mode": {
    "name": "ipython",
    "version": 3
   },
   "file_extension": ".py",
   "mimetype": "text/x-python",
   "name": "python",
   "nbconvert_exporter": "python",
   "pygments_lexer": "ipython3",
   "version": "3.12.7"
  }
 },
 "nbformat": 4,
 "nbformat_minor": 2
}
